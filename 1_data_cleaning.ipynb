{
 "cells": [
  {
   "cell_type": "markdown",
   "id": "8e59bf7b-d0a6-4d44-8706-6502eb913ec2",
   "metadata": {},
   "source": [
    "# <img src=\"./image/taxi_logo.png\" alt=\"drawing\" width=\"30\"/>Taxi Driver Go Where?\n",
    "### A Time Series Prediction on the Demand of Taxi at New York City\n",
    "by Tan Jun Pin"
   ]
  },
  {
   "cell_type": "markdown",
   "id": "75f4c5d4-3517-4871-bc56-ad7a322a7ab0",
   "metadata": {},
   "source": [
    "## Datasets Sources\n",
    "All datasets were obtained from NYC.GOV with Taxi & Limousine Commission.\n",
    "([source](https://www.nyc.gov/site/tlc/about/tlc-trip-record-data.page))\n",
    "\n",
    "There are total of 2 types of datasets were downloaded which are:\n",
    "* [`Yellow Taxi Trip Records (Jan' 22 to Aug' 22)`](./datasets/yellow_taxi_2022)\n",
    "* [`Taxi Zoning and Map`](./datasets/taxi_zones)\n"
   ]
  },
  {
   "cell_type": "markdown",
   "id": "8006d7e9-a093-468e-a910-9c58a7be3390",
   "metadata": {},
   "source": [
    "### Project Background\n",
    "\n",
    "Taxi services are very customer-centric. Everyone one of us could easily get a taxi ride these days. We could easily hail down any taxi on the streets or even with just few buttons away using applications. Taxi services provide us with much convenient of transporting us to any location (as long as the road connects!). As a passenger, once we reach our destination, the taxi will be empty and the driver is ready to 'hunt' for new passengers.\n",
    "\n",
    "However, it is not easy to get a new passenger especially the taxi is not located at any popular location like business district, airport or shopping areas. Very often, taxi drivers are 'abandoned' at areas where they are not familiar or even far from the 'hotspot'. It is all known that a taxi has to keep on cruise on the road or at least driver towards the famous hotspot to get new passengers. \n",
    "\n",
    "Crusing on the road is time and fuel consuming which is not ideal for taxi drivers. Worst is when the driver is cruising on the wrong area where the area itself has no demand for taxi at that particular time. Demand for Taxi is not always constant throughout the day. Area like the business district could see more Pick Up in the evening as everyone is returning home while Airport on the other hand, could have a more constant pick up demand due to the passengers arriving to the airport. On the other hand, some areas like factory district or residential areas, the demand for taxi is simply not good throughout the day.\n",
    "\n",
    "Hence, in this project, we would like to predict on the demand of Taxi focusing on the areas in New York City where taxi drivers could easily know the area they are located or going to go will have any demand for taxi. They could also know if the neighboring areas will have any demand for taxi."
   ]
  },
  {
   "cell_type": "markdown",
   "id": "d426d45a-1f47-40bc-b7ec-c77d259ee55e",
   "metadata": {},
   "source": [
    "# Data Import & Cleaning"
   ]
  },
  {
   "cell_type": "markdown",
   "id": "77cb3ed3-3d55-4e36-bc6d-96de3ab42e3c",
   "metadata": {},
   "source": [
    "## Importing library for Cleaning"
   ]
  },
  {
   "cell_type": "code",
   "execution_count": 1,
   "id": "dc6cc5bf-8073-4c32-a4d8-f9cf41fd4333",
   "metadata": {},
   "outputs": [],
   "source": [
    "from glob import glob\n",
    "import pandas as pd\n",
    "import numpy as np\n",
    "import warnings\n",
    "\n",
    "warnings.filterwarnings(\"ignore\")\n",
    "pd.set_option('display.max_columns', None)\n",
    "np.set_printoptions(threshold=np.inf)"
   ]
  },
  {
   "cell_type": "markdown",
   "id": "c3244415-c295-4890-9ce8-06d122e38f1b",
   "metadata": {},
   "source": [
    "## Importing Datasets"
   ]
  },
  {
   "cell_type": "code",
   "execution_count": 2,
   "id": "f5bd1c0f-8f73-440c-9e8c-808274d19755",
   "metadata": {
    "tags": []
   },
   "outputs": [],
   "source": [
    "# To import all the datasets in the folder\n",
    "files = glob('./datasets/yellow_taxi_2022/*')\n",
    "y_22 = {}\n",
    "N = 1\n",
    "for i in files:\n",
    "    y_22[N] = pd.read_parquet(i)\n",
    "    N += 1"
   ]
  },
  {
   "cell_type": "code",
   "execution_count": 3,
   "id": "53d22b98-91be-4473-a158-e6f8dc8808a5",
   "metadata": {},
   "outputs": [
    {
     "name": "stdout",
     "output_type": "stream",
     "text": [
      "(3152677, 19)\n",
      "(5616608, 19)\n",
      "(9244490, 19)\n",
      "(12223921, 19)\n",
      "(15398315, 19)\n",
      "(18956439, 19)\n",
      "(22556359, 19)\n",
      "(26144654, 19)\n"
     ]
    }
   ],
   "source": [
    "# To join all the tables into a single DataFrame\n",
    "yellow_22 = pd.DataFrame()\n",
    "for n in range(1,N):\n",
    "    yellow_22 = pd.concat([yellow_22, y_22[n]], ignore_index = True, sort = False)\n",
    "    print(yellow_22.shape)"
   ]
  },
  {
   "cell_type": "code",
   "execution_count": 4,
   "id": "2c0ca128-79ab-4ab1-9667-af3395a2495b",
   "metadata": {},
   "outputs": [
    {
     "data": {
      "text/html": [
       "<div>\n",
       "<style scoped>\n",
       "    .dataframe tbody tr th:only-of-type {\n",
       "        vertical-align: middle;\n",
       "    }\n",
       "\n",
       "    .dataframe tbody tr th {\n",
       "        vertical-align: top;\n",
       "    }\n",
       "\n",
       "    .dataframe thead th {\n",
       "        text-align: right;\n",
       "    }\n",
       "</style>\n",
       "<table border=\"1\" class=\"dataframe\">\n",
       "  <thead>\n",
       "    <tr style=\"text-align: right;\">\n",
       "      <th></th>\n",
       "      <th>VendorID</th>\n",
       "      <th>tpep_pickup_datetime</th>\n",
       "      <th>tpep_dropoff_datetime</th>\n",
       "      <th>passenger_count</th>\n",
       "      <th>trip_distance</th>\n",
       "      <th>RatecodeID</th>\n",
       "      <th>store_and_fwd_flag</th>\n",
       "      <th>PULocationID</th>\n",
       "      <th>DOLocationID</th>\n",
       "      <th>payment_type</th>\n",
       "      <th>fare_amount</th>\n",
       "      <th>extra</th>\n",
       "      <th>mta_tax</th>\n",
       "      <th>tip_amount</th>\n",
       "      <th>tolls_amount</th>\n",
       "      <th>improvement_surcharge</th>\n",
       "      <th>total_amount</th>\n",
       "      <th>congestion_surcharge</th>\n",
       "      <th>airport_fee</th>\n",
       "    </tr>\n",
       "  </thead>\n",
       "  <tbody>\n",
       "    <tr>\n",
       "      <th>0</th>\n",
       "      <td>1</td>\n",
       "      <td>2022-08-01 00:17:39</td>\n",
       "      <td>2022-08-01 00:19:58</td>\n",
       "      <td>1.0</td>\n",
       "      <td>0.4</td>\n",
       "      <td>1.0</td>\n",
       "      <td>N</td>\n",
       "      <td>114</td>\n",
       "      <td>148</td>\n",
       "      <td>1</td>\n",
       "      <td>3.5</td>\n",
       "      <td>3.0</td>\n",
       "      <td>0.5</td>\n",
       "      <td>1.80</td>\n",
       "      <td>0.00</td>\n",
       "      <td>0.3</td>\n",
       "      <td>9.10</td>\n",
       "      <td>2.5</td>\n",
       "      <td>0.0</td>\n",
       "    </tr>\n",
       "    <tr>\n",
       "      <th>1</th>\n",
       "      <td>1</td>\n",
       "      <td>2022-08-01 00:26:06</td>\n",
       "      <td>2022-08-01 00:31:55</td>\n",
       "      <td>1.0</td>\n",
       "      <td>1.4</td>\n",
       "      <td>1.0</td>\n",
       "      <td>N</td>\n",
       "      <td>79</td>\n",
       "      <td>137</td>\n",
       "      <td>1</td>\n",
       "      <td>6.5</td>\n",
       "      <td>3.0</td>\n",
       "      <td>0.5</td>\n",
       "      <td>2.05</td>\n",
       "      <td>0.00</td>\n",
       "      <td>0.3</td>\n",
       "      <td>12.35</td>\n",
       "      <td>2.5</td>\n",
       "      <td>0.0</td>\n",
       "    </tr>\n",
       "    <tr>\n",
       "      <th>2</th>\n",
       "      <td>1</td>\n",
       "      <td>2022-08-01 00:45:49</td>\n",
       "      <td>2022-08-01 00:59:29</td>\n",
       "      <td>1.0</td>\n",
       "      <td>5.2</td>\n",
       "      <td>1.0</td>\n",
       "      <td>N</td>\n",
       "      <td>79</td>\n",
       "      <td>74</td>\n",
       "      <td>1</td>\n",
       "      <td>16.0</td>\n",
       "      <td>3.0</td>\n",
       "      <td>0.5</td>\n",
       "      <td>3.95</td>\n",
       "      <td>0.00</td>\n",
       "      <td>0.3</td>\n",
       "      <td>23.75</td>\n",
       "      <td>2.5</td>\n",
       "      <td>0.0</td>\n",
       "    </tr>\n",
       "    <tr>\n",
       "      <th>3</th>\n",
       "      <td>1</td>\n",
       "      <td>2022-08-01 00:05:49</td>\n",
       "      <td>2022-08-01 00:25:42</td>\n",
       "      <td>1.0</td>\n",
       "      <td>9.4</td>\n",
       "      <td>1.0</td>\n",
       "      <td>N</td>\n",
       "      <td>138</td>\n",
       "      <td>113</td>\n",
       "      <td>1</td>\n",
       "      <td>28.0</td>\n",
       "      <td>3.0</td>\n",
       "      <td>0.5</td>\n",
       "      <td>7.65</td>\n",
       "      <td>6.55</td>\n",
       "      <td>0.3</td>\n",
       "      <td>46.00</td>\n",
       "      <td>2.5</td>\n",
       "      <td>0.0</td>\n",
       "    </tr>\n",
       "    <tr>\n",
       "      <th>4</th>\n",
       "      <td>1</td>\n",
       "      <td>2022-08-01 00:36:29</td>\n",
       "      <td>2022-08-01 00:51:29</td>\n",
       "      <td>1.0</td>\n",
       "      <td>1.7</td>\n",
       "      <td>1.0</td>\n",
       "      <td>N</td>\n",
       "      <td>137</td>\n",
       "      <td>68</td>\n",
       "      <td>1</td>\n",
       "      <td>11.0</td>\n",
       "      <td>3.0</td>\n",
       "      <td>0.5</td>\n",
       "      <td>1.00</td>\n",
       "      <td>0.00</td>\n",
       "      <td>0.3</td>\n",
       "      <td>15.80</td>\n",
       "      <td>2.5</td>\n",
       "      <td>0.0</td>\n",
       "    </tr>\n",
       "  </tbody>\n",
       "</table>\n",
       "</div>"
      ],
      "text/plain": [
       "   VendorID tpep_pickup_datetime tpep_dropoff_datetime  passenger_count  \\\n",
       "0         1  2022-08-01 00:17:39   2022-08-01 00:19:58              1.0   \n",
       "1         1  2022-08-01 00:26:06   2022-08-01 00:31:55              1.0   \n",
       "2         1  2022-08-01 00:45:49   2022-08-01 00:59:29              1.0   \n",
       "3         1  2022-08-01 00:05:49   2022-08-01 00:25:42              1.0   \n",
       "4         1  2022-08-01 00:36:29   2022-08-01 00:51:29              1.0   \n",
       "\n",
       "   trip_distance  RatecodeID store_and_fwd_flag  PULocationID  DOLocationID  \\\n",
       "0            0.4         1.0                  N           114           148   \n",
       "1            1.4         1.0                  N            79           137   \n",
       "2            5.2         1.0                  N            79            74   \n",
       "3            9.4         1.0                  N           138           113   \n",
       "4            1.7         1.0                  N           137            68   \n",
       "\n",
       "   payment_type  fare_amount  extra  mta_tax  tip_amount  tolls_amount  \\\n",
       "0             1          3.5    3.0      0.5        1.80          0.00   \n",
       "1             1          6.5    3.0      0.5        2.05          0.00   \n",
       "2             1         16.0    3.0      0.5        3.95          0.00   \n",
       "3             1         28.0    3.0      0.5        7.65          6.55   \n",
       "4             1         11.0    3.0      0.5        1.00          0.00   \n",
       "\n",
       "   improvement_surcharge  total_amount  congestion_surcharge  airport_fee  \n",
       "0                    0.3          9.10                   2.5          0.0  \n",
       "1                    0.3         12.35                   2.5          0.0  \n",
       "2                    0.3         23.75                   2.5          0.0  \n",
       "3                    0.3         46.00                   2.5          0.0  \n",
       "4                    0.3         15.80                   2.5          0.0  "
      ]
     },
     "execution_count": 4,
     "metadata": {},
     "output_type": "execute_result"
    }
   ],
   "source": [
    "# To check on the datasets\n",
    "yellow_22.head()"
   ]
  },
  {
   "cell_type": "code",
   "execution_count": 5,
   "id": "faa33578-1bab-4526-be45-242893ae129e",
   "metadata": {},
   "outputs": [],
   "source": [
    "# To arrange the datasets based on the pickup_datetime\n",
    "yellow_22.sort_values(by ='tpep_pickup_datetime', inplace = True, ignore_index = True)"
   ]
  },
  {
   "cell_type": "code",
   "execution_count": 6,
   "id": "2afff8e8-94fa-4025-b7a8-fb24cf4921cf",
   "metadata": {},
   "outputs": [
    {
     "data": {
      "text/html": [
       "<div>\n",
       "<style scoped>\n",
       "    .dataframe tbody tr th:only-of-type {\n",
       "        vertical-align: middle;\n",
       "    }\n",
       "\n",
       "    .dataframe tbody tr th {\n",
       "        vertical-align: top;\n",
       "    }\n",
       "\n",
       "    .dataframe thead th {\n",
       "        text-align: right;\n",
       "    }\n",
       "</style>\n",
       "<table border=\"1\" class=\"dataframe\">\n",
       "  <thead>\n",
       "    <tr style=\"text-align: right;\">\n",
       "      <th></th>\n",
       "      <th>VendorID</th>\n",
       "      <th>tpep_pickup_datetime</th>\n",
       "      <th>tpep_dropoff_datetime</th>\n",
       "      <th>passenger_count</th>\n",
       "      <th>trip_distance</th>\n",
       "      <th>RatecodeID</th>\n",
       "      <th>store_and_fwd_flag</th>\n",
       "      <th>PULocationID</th>\n",
       "      <th>DOLocationID</th>\n",
       "      <th>payment_type</th>\n",
       "      <th>fare_amount</th>\n",
       "      <th>extra</th>\n",
       "      <th>mta_tax</th>\n",
       "      <th>tip_amount</th>\n",
       "      <th>tolls_amount</th>\n",
       "      <th>improvement_surcharge</th>\n",
       "      <th>total_amount</th>\n",
       "      <th>congestion_surcharge</th>\n",
       "      <th>airport_fee</th>\n",
       "    </tr>\n",
       "  </thead>\n",
       "  <tbody>\n",
       "    <tr>\n",
       "      <th>0</th>\n",
       "      <td>2</td>\n",
       "      <td>2001-01-01 00:03:14</td>\n",
       "      <td>2001-01-01 01:12:47</td>\n",
       "      <td>1.0</td>\n",
       "      <td>20.77</td>\n",
       "      <td>2.0</td>\n",
       "      <td>N</td>\n",
       "      <td>132</td>\n",
       "      <td>230</td>\n",
       "      <td>2</td>\n",
       "      <td>52.0</td>\n",
       "      <td>0.0</td>\n",
       "      <td>0.5</td>\n",
       "      <td>0.0</td>\n",
       "      <td>6.55</td>\n",
       "      <td>0.3</td>\n",
       "      <td>61.85</td>\n",
       "      <td>2.5</td>\n",
       "      <td>0.0</td>\n",
       "    </tr>\n",
       "    <tr>\n",
       "      <th>1</th>\n",
       "      <td>2</td>\n",
       "      <td>2001-01-01 00:27:45</td>\n",
       "      <td>2001-01-01 00:34:17</td>\n",
       "      <td>1.0</td>\n",
       "      <td>0.88</td>\n",
       "      <td>1.0</td>\n",
       "      <td>N</td>\n",
       "      <td>48</td>\n",
       "      <td>143</td>\n",
       "      <td>2</td>\n",
       "      <td>6.0</td>\n",
       "      <td>1.0</td>\n",
       "      <td>0.5</td>\n",
       "      <td>0.0</td>\n",
       "      <td>0.00</td>\n",
       "      <td>0.3</td>\n",
       "      <td>10.30</td>\n",
       "      <td>2.5</td>\n",
       "      <td>0.0</td>\n",
       "    </tr>\n",
       "    <tr>\n",
       "      <th>2</th>\n",
       "      <td>2</td>\n",
       "      <td>2001-01-01 01:02:18</td>\n",
       "      <td>2001-01-01 17:20:19</td>\n",
       "      <td>1.0</td>\n",
       "      <td>3.10</td>\n",
       "      <td>1.0</td>\n",
       "      <td>N</td>\n",
       "      <td>237</td>\n",
       "      <td>234</td>\n",
       "      <td>1</td>\n",
       "      <td>14.0</td>\n",
       "      <td>1.0</td>\n",
       "      <td>0.5</td>\n",
       "      <td>0.0</td>\n",
       "      <td>0.00</td>\n",
       "      <td>0.3</td>\n",
       "      <td>18.30</td>\n",
       "      <td>2.5</td>\n",
       "      <td>0.0</td>\n",
       "    </tr>\n",
       "    <tr>\n",
       "      <th>3</th>\n",
       "      <td>2</td>\n",
       "      <td>2001-01-01 01:23:51</td>\n",
       "      <td>2001-01-01 01:50:08</td>\n",
       "      <td>1.0</td>\n",
       "      <td>4.68</td>\n",
       "      <td>1.0</td>\n",
       "      <td>N</td>\n",
       "      <td>230</td>\n",
       "      <td>231</td>\n",
       "      <td>2</td>\n",
       "      <td>20.5</td>\n",
       "      <td>1.0</td>\n",
       "      <td>0.5</td>\n",
       "      <td>0.0</td>\n",
       "      <td>0.00</td>\n",
       "      <td>0.3</td>\n",
       "      <td>24.80</td>\n",
       "      <td>2.5</td>\n",
       "      <td>0.0</td>\n",
       "    </tr>\n",
       "    <tr>\n",
       "      <th>4</th>\n",
       "      <td>2</td>\n",
       "      <td>2001-01-01 01:52:48</td>\n",
       "      <td>2001-01-01 17:37:26</td>\n",
       "      <td>1.0</td>\n",
       "      <td>6.95</td>\n",
       "      <td>1.0</td>\n",
       "      <td>N</td>\n",
       "      <td>231</td>\n",
       "      <td>264</td>\n",
       "      <td>1</td>\n",
       "      <td>22.0</td>\n",
       "      <td>1.0</td>\n",
       "      <td>0.5</td>\n",
       "      <td>3.5</td>\n",
       "      <td>0.00</td>\n",
       "      <td>0.3</td>\n",
       "      <td>29.80</td>\n",
       "      <td>2.5</td>\n",
       "      <td>0.0</td>\n",
       "    </tr>\n",
       "  </tbody>\n",
       "</table>\n",
       "</div>"
      ],
      "text/plain": [
       "   VendorID tpep_pickup_datetime tpep_dropoff_datetime  passenger_count  \\\n",
       "0         2  2001-01-01 00:03:14   2001-01-01 01:12:47              1.0   \n",
       "1         2  2001-01-01 00:27:45   2001-01-01 00:34:17              1.0   \n",
       "2         2  2001-01-01 01:02:18   2001-01-01 17:20:19              1.0   \n",
       "3         2  2001-01-01 01:23:51   2001-01-01 01:50:08              1.0   \n",
       "4         2  2001-01-01 01:52:48   2001-01-01 17:37:26              1.0   \n",
       "\n",
       "   trip_distance  RatecodeID store_and_fwd_flag  PULocationID  DOLocationID  \\\n",
       "0          20.77         2.0                  N           132           230   \n",
       "1           0.88         1.0                  N            48           143   \n",
       "2           3.10         1.0                  N           237           234   \n",
       "3           4.68         1.0                  N           230           231   \n",
       "4           6.95         1.0                  N           231           264   \n",
       "\n",
       "   payment_type  fare_amount  extra  mta_tax  tip_amount  tolls_amount  \\\n",
       "0             2         52.0    0.0      0.5         0.0          6.55   \n",
       "1             2          6.0    1.0      0.5         0.0          0.00   \n",
       "2             1         14.0    1.0      0.5         0.0          0.00   \n",
       "3             2         20.5    1.0      0.5         0.0          0.00   \n",
       "4             1         22.0    1.0      0.5         3.5          0.00   \n",
       "\n",
       "   improvement_surcharge  total_amount  congestion_surcharge  airport_fee  \n",
       "0                    0.3         61.85                   2.5          0.0  \n",
       "1                    0.3         10.30                   2.5          0.0  \n",
       "2                    0.3         18.30                   2.5          0.0  \n",
       "3                    0.3         24.80                   2.5          0.0  \n",
       "4                    0.3         29.80                   2.5          0.0  "
      ]
     },
     "execution_count": 6,
     "metadata": {},
     "output_type": "execute_result"
    }
   ],
   "source": [
    "# To check on the datasets\n",
    "yellow_22.head()"
   ]
  },
  {
   "cell_type": "markdown",
   "id": "2162c4ca-a4ac-44d3-9456-e53ca0ecea68",
   "metadata": {},
   "source": [
    "## Data Infomation"
   ]
  },
  {
   "cell_type": "markdown",
   "id": "4205193f-99cc-4223-bad9-be31d15e8fbb",
   "metadata": {},
   "source": [
    "To identify the number of rows & columns for each datasets and the features"
   ]
  },
  {
   "cell_type": "code",
   "execution_count": 7,
   "id": "76085755-aab3-42e9-a231-9df5aa58196c",
   "metadata": {},
   "outputs": [],
   "source": [
    "def row_col(pd):\n",
    "    print(pd.shape)\n",
    "    return (pd.head())"
   ]
  },
  {
   "cell_type": "code",
   "execution_count": 8,
   "id": "734807fe-8e87-4086-913c-1623b7d37a8b",
   "metadata": {},
   "outputs": [
    {
     "name": "stdout",
     "output_type": "stream",
     "text": [
      "(26144654, 19)\n"
     ]
    },
    {
     "data": {
      "text/html": [
       "<div>\n",
       "<style scoped>\n",
       "    .dataframe tbody tr th:only-of-type {\n",
       "        vertical-align: middle;\n",
       "    }\n",
       "\n",
       "    .dataframe tbody tr th {\n",
       "        vertical-align: top;\n",
       "    }\n",
       "\n",
       "    .dataframe thead th {\n",
       "        text-align: right;\n",
       "    }\n",
       "</style>\n",
       "<table border=\"1\" class=\"dataframe\">\n",
       "  <thead>\n",
       "    <tr style=\"text-align: right;\">\n",
       "      <th></th>\n",
       "      <th>VendorID</th>\n",
       "      <th>tpep_pickup_datetime</th>\n",
       "      <th>tpep_dropoff_datetime</th>\n",
       "      <th>passenger_count</th>\n",
       "      <th>trip_distance</th>\n",
       "      <th>RatecodeID</th>\n",
       "      <th>store_and_fwd_flag</th>\n",
       "      <th>PULocationID</th>\n",
       "      <th>DOLocationID</th>\n",
       "      <th>payment_type</th>\n",
       "      <th>fare_amount</th>\n",
       "      <th>extra</th>\n",
       "      <th>mta_tax</th>\n",
       "      <th>tip_amount</th>\n",
       "      <th>tolls_amount</th>\n",
       "      <th>improvement_surcharge</th>\n",
       "      <th>total_amount</th>\n",
       "      <th>congestion_surcharge</th>\n",
       "      <th>airport_fee</th>\n",
       "    </tr>\n",
       "  </thead>\n",
       "  <tbody>\n",
       "    <tr>\n",
       "      <th>0</th>\n",
       "      <td>2</td>\n",
       "      <td>2001-01-01 00:03:14</td>\n",
       "      <td>2001-01-01 01:12:47</td>\n",
       "      <td>1.0</td>\n",
       "      <td>20.77</td>\n",
       "      <td>2.0</td>\n",
       "      <td>N</td>\n",
       "      <td>132</td>\n",
       "      <td>230</td>\n",
       "      <td>2</td>\n",
       "      <td>52.0</td>\n",
       "      <td>0.0</td>\n",
       "      <td>0.5</td>\n",
       "      <td>0.0</td>\n",
       "      <td>6.55</td>\n",
       "      <td>0.3</td>\n",
       "      <td>61.85</td>\n",
       "      <td>2.5</td>\n",
       "      <td>0.0</td>\n",
       "    </tr>\n",
       "    <tr>\n",
       "      <th>1</th>\n",
       "      <td>2</td>\n",
       "      <td>2001-01-01 00:27:45</td>\n",
       "      <td>2001-01-01 00:34:17</td>\n",
       "      <td>1.0</td>\n",
       "      <td>0.88</td>\n",
       "      <td>1.0</td>\n",
       "      <td>N</td>\n",
       "      <td>48</td>\n",
       "      <td>143</td>\n",
       "      <td>2</td>\n",
       "      <td>6.0</td>\n",
       "      <td>1.0</td>\n",
       "      <td>0.5</td>\n",
       "      <td>0.0</td>\n",
       "      <td>0.00</td>\n",
       "      <td>0.3</td>\n",
       "      <td>10.30</td>\n",
       "      <td>2.5</td>\n",
       "      <td>0.0</td>\n",
       "    </tr>\n",
       "    <tr>\n",
       "      <th>2</th>\n",
       "      <td>2</td>\n",
       "      <td>2001-01-01 01:02:18</td>\n",
       "      <td>2001-01-01 17:20:19</td>\n",
       "      <td>1.0</td>\n",
       "      <td>3.10</td>\n",
       "      <td>1.0</td>\n",
       "      <td>N</td>\n",
       "      <td>237</td>\n",
       "      <td>234</td>\n",
       "      <td>1</td>\n",
       "      <td>14.0</td>\n",
       "      <td>1.0</td>\n",
       "      <td>0.5</td>\n",
       "      <td>0.0</td>\n",
       "      <td>0.00</td>\n",
       "      <td>0.3</td>\n",
       "      <td>18.30</td>\n",
       "      <td>2.5</td>\n",
       "      <td>0.0</td>\n",
       "    </tr>\n",
       "    <tr>\n",
       "      <th>3</th>\n",
       "      <td>2</td>\n",
       "      <td>2001-01-01 01:23:51</td>\n",
       "      <td>2001-01-01 01:50:08</td>\n",
       "      <td>1.0</td>\n",
       "      <td>4.68</td>\n",
       "      <td>1.0</td>\n",
       "      <td>N</td>\n",
       "      <td>230</td>\n",
       "      <td>231</td>\n",
       "      <td>2</td>\n",
       "      <td>20.5</td>\n",
       "      <td>1.0</td>\n",
       "      <td>0.5</td>\n",
       "      <td>0.0</td>\n",
       "      <td>0.00</td>\n",
       "      <td>0.3</td>\n",
       "      <td>24.80</td>\n",
       "      <td>2.5</td>\n",
       "      <td>0.0</td>\n",
       "    </tr>\n",
       "    <tr>\n",
       "      <th>4</th>\n",
       "      <td>2</td>\n",
       "      <td>2001-01-01 01:52:48</td>\n",
       "      <td>2001-01-01 17:37:26</td>\n",
       "      <td>1.0</td>\n",
       "      <td>6.95</td>\n",
       "      <td>1.0</td>\n",
       "      <td>N</td>\n",
       "      <td>231</td>\n",
       "      <td>264</td>\n",
       "      <td>1</td>\n",
       "      <td>22.0</td>\n",
       "      <td>1.0</td>\n",
       "      <td>0.5</td>\n",
       "      <td>3.5</td>\n",
       "      <td>0.00</td>\n",
       "      <td>0.3</td>\n",
       "      <td>29.80</td>\n",
       "      <td>2.5</td>\n",
       "      <td>0.0</td>\n",
       "    </tr>\n",
       "  </tbody>\n",
       "</table>\n",
       "</div>"
      ],
      "text/plain": [
       "   VendorID tpep_pickup_datetime tpep_dropoff_datetime  passenger_count  \\\n",
       "0         2  2001-01-01 00:03:14   2001-01-01 01:12:47              1.0   \n",
       "1         2  2001-01-01 00:27:45   2001-01-01 00:34:17              1.0   \n",
       "2         2  2001-01-01 01:02:18   2001-01-01 17:20:19              1.0   \n",
       "3         2  2001-01-01 01:23:51   2001-01-01 01:50:08              1.0   \n",
       "4         2  2001-01-01 01:52:48   2001-01-01 17:37:26              1.0   \n",
       "\n",
       "   trip_distance  RatecodeID store_and_fwd_flag  PULocationID  DOLocationID  \\\n",
       "0          20.77         2.0                  N           132           230   \n",
       "1           0.88         1.0                  N            48           143   \n",
       "2           3.10         1.0                  N           237           234   \n",
       "3           4.68         1.0                  N           230           231   \n",
       "4           6.95         1.0                  N           231           264   \n",
       "\n",
       "   payment_type  fare_amount  extra  mta_tax  tip_amount  tolls_amount  \\\n",
       "0             2         52.0    0.0      0.5         0.0          6.55   \n",
       "1             2          6.0    1.0      0.5         0.0          0.00   \n",
       "2             1         14.0    1.0      0.5         0.0          0.00   \n",
       "3             2         20.5    1.0      0.5         0.0          0.00   \n",
       "4             1         22.0    1.0      0.5         3.5          0.00   \n",
       "\n",
       "   improvement_surcharge  total_amount  congestion_surcharge  airport_fee  \n",
       "0                    0.3         61.85                   2.5          0.0  \n",
       "1                    0.3         10.30                   2.5          0.0  \n",
       "2                    0.3         18.30                   2.5          0.0  \n",
       "3                    0.3         24.80                   2.5          0.0  \n",
       "4                    0.3         29.80                   2.5          0.0  "
      ]
     },
     "execution_count": 8,
     "metadata": {},
     "output_type": "execute_result"
    }
   ],
   "source": [
    "row_col(yellow_22)"
   ]
  },
  {
   "cell_type": "markdown",
   "id": "5b45f57f-75df-4eda-a88a-97121d128527",
   "metadata": {},
   "source": [
    "Due to large datasize, rows that is deemd to be not irrelevant to the datasets will be removed from the dataframe\n",
    "\n",
    "The following features will be removed from the dataset:\n",
    "- VendorID: Code indicating the TPEP Provider that provided the record\n",
    "- Passenger_count: The number of passengers in the vehicle. \n",
    "- store_and_fwd_flag : This flag indicates whether the trip record was held in vehicle memory before sending to the vendor, aka “store and forward”\n",
    "- payment_type: A numeric code signifying how the passenger paid for the trip. \n",
    "- RatecodeID: The final rate code in effect at the end of the trip\n",
    "- mta_tax: \\\\$0.50 MTA State Surcharge for all trips that end in New York City or Nassau, Suffolk, Westchester, Rockland, Dutchess, Orange or Putnam Counties.\n",
    "- toll_amount: Total amount of all tolls paid in trip. \n",
    "- improvement_surcharge: $0.30 improvement surcharge assessed trips at the flag drop.\n",
    "- congestion_surcharge: Total amount collected for all trips that begin, end or pass through Manhattan south of 96th Street.\n",
    "- airport_fee: As Newark Airport is outside of New York City, this information is not relevant to this project"
   ]
  },
  {
   "cell_type": "code",
   "execution_count": 9,
   "id": "44d6e1ef-6b80-4ce8-8c47-f976928d3e3c",
   "metadata": {},
   "outputs": [],
   "source": [
    "yellow_22.drop(labels = ['VendorID', 'passenger_count', 'RatecodeID', \n",
    "                    'store_and_fwd_flag', 'payment_type', 'mta_tax', 'tolls_amount', 'improvement_surcharge', \n",
    "                    'congestion_surcharge', 'airport_fee'], axis = 1, inplace = True)"
   ]
  },
  {
   "cell_type": "code",
   "execution_count": 10,
   "id": "931eb70d-aa2e-4753-ae43-7922ff5829ef",
   "metadata": {},
   "outputs": [
    {
     "name": "stdout",
     "output_type": "stream",
     "text": [
      "(26144654, 9)\n"
     ]
    },
    {
     "data": {
      "text/html": [
       "<div>\n",
       "<style scoped>\n",
       "    .dataframe tbody tr th:only-of-type {\n",
       "        vertical-align: middle;\n",
       "    }\n",
       "\n",
       "    .dataframe tbody tr th {\n",
       "        vertical-align: top;\n",
       "    }\n",
       "\n",
       "    .dataframe thead th {\n",
       "        text-align: right;\n",
       "    }\n",
       "</style>\n",
       "<table border=\"1\" class=\"dataframe\">\n",
       "  <thead>\n",
       "    <tr style=\"text-align: right;\">\n",
       "      <th></th>\n",
       "      <th>tpep_pickup_datetime</th>\n",
       "      <th>tpep_dropoff_datetime</th>\n",
       "      <th>trip_distance</th>\n",
       "      <th>PULocationID</th>\n",
       "      <th>DOLocationID</th>\n",
       "      <th>fare_amount</th>\n",
       "      <th>extra</th>\n",
       "      <th>tip_amount</th>\n",
       "      <th>total_amount</th>\n",
       "    </tr>\n",
       "  </thead>\n",
       "  <tbody>\n",
       "    <tr>\n",
       "      <th>0</th>\n",
       "      <td>2001-01-01 00:03:14</td>\n",
       "      <td>2001-01-01 01:12:47</td>\n",
       "      <td>20.77</td>\n",
       "      <td>132</td>\n",
       "      <td>230</td>\n",
       "      <td>52.0</td>\n",
       "      <td>0.0</td>\n",
       "      <td>0.0</td>\n",
       "      <td>61.85</td>\n",
       "    </tr>\n",
       "    <tr>\n",
       "      <th>1</th>\n",
       "      <td>2001-01-01 00:27:45</td>\n",
       "      <td>2001-01-01 00:34:17</td>\n",
       "      <td>0.88</td>\n",
       "      <td>48</td>\n",
       "      <td>143</td>\n",
       "      <td>6.0</td>\n",
       "      <td>1.0</td>\n",
       "      <td>0.0</td>\n",
       "      <td>10.30</td>\n",
       "    </tr>\n",
       "    <tr>\n",
       "      <th>2</th>\n",
       "      <td>2001-01-01 01:02:18</td>\n",
       "      <td>2001-01-01 17:20:19</td>\n",
       "      <td>3.10</td>\n",
       "      <td>237</td>\n",
       "      <td>234</td>\n",
       "      <td>14.0</td>\n",
       "      <td>1.0</td>\n",
       "      <td>0.0</td>\n",
       "      <td>18.30</td>\n",
       "    </tr>\n",
       "    <tr>\n",
       "      <th>3</th>\n",
       "      <td>2001-01-01 01:23:51</td>\n",
       "      <td>2001-01-01 01:50:08</td>\n",
       "      <td>4.68</td>\n",
       "      <td>230</td>\n",
       "      <td>231</td>\n",
       "      <td>20.5</td>\n",
       "      <td>1.0</td>\n",
       "      <td>0.0</td>\n",
       "      <td>24.80</td>\n",
       "    </tr>\n",
       "    <tr>\n",
       "      <th>4</th>\n",
       "      <td>2001-01-01 01:52:48</td>\n",
       "      <td>2001-01-01 17:37:26</td>\n",
       "      <td>6.95</td>\n",
       "      <td>231</td>\n",
       "      <td>264</td>\n",
       "      <td>22.0</td>\n",
       "      <td>1.0</td>\n",
       "      <td>3.5</td>\n",
       "      <td>29.80</td>\n",
       "    </tr>\n",
       "  </tbody>\n",
       "</table>\n",
       "</div>"
      ],
      "text/plain": [
       "  tpep_pickup_datetime tpep_dropoff_datetime  trip_distance  PULocationID  \\\n",
       "0  2001-01-01 00:03:14   2001-01-01 01:12:47          20.77           132   \n",
       "1  2001-01-01 00:27:45   2001-01-01 00:34:17           0.88            48   \n",
       "2  2001-01-01 01:02:18   2001-01-01 17:20:19           3.10           237   \n",
       "3  2001-01-01 01:23:51   2001-01-01 01:50:08           4.68           230   \n",
       "4  2001-01-01 01:52:48   2001-01-01 17:37:26           6.95           231   \n",
       "\n",
       "   DOLocationID  fare_amount  extra  tip_amount  total_amount  \n",
       "0           230         52.0    0.0         0.0         61.85  \n",
       "1           143          6.0    1.0         0.0         10.30  \n",
       "2           234         14.0    1.0         0.0         18.30  \n",
       "3           231         20.5    1.0         0.0         24.80  \n",
       "4           264         22.0    1.0         3.5         29.80  "
      ]
     },
     "execution_count": 10,
     "metadata": {},
     "output_type": "execute_result"
    }
   ],
   "source": [
    "row_col(yellow_22)"
   ]
  },
  {
   "cell_type": "markdown",
   "id": "35391b55-82e9-4c79-a393-ecb736321efb",
   "metadata": {},
   "source": [
    "## Reduce the Dataframe Size"
   ]
  },
  {
   "cell_type": "code",
   "execution_count": 11,
   "id": "f06ae027-1537-486e-93d9-61b861b984fe",
   "metadata": {},
   "outputs": [],
   "source": [
    "# To check on the memory usage of the dataset\n",
    "ori_size = yellow_22.memory_usage().sum()/(1024*1024)"
   ]
  },
  {
   "cell_type": "markdown",
   "id": "818a9ea5-d818-417c-8a5f-4d429901fb5f",
   "metadata": {
    "tags": []
   },
   "source": [
    "Upon Removal of uncessary columns, the dataset is still having size of 1.9GB which is still large. \n",
    "Hence, the type of each feature will be engineered to datatype where size is smaller."
   ]
  },
  {
   "cell_type": "code",
   "execution_count": 12,
   "id": "6aa0cd7a-b118-4018-bbd7-14790f6df121",
   "metadata": {},
   "outputs": [
    {
     "data": {
      "text/plain": [
       "tpep_pickup_datetime     datetime64[ns]\n",
       "tpep_dropoff_datetime    datetime64[ns]\n",
       "trip_distance                   float64\n",
       "PULocationID                      int64\n",
       "DOLocationID                      int64\n",
       "fare_amount                     float64\n",
       "extra                           float64\n",
       "tip_amount                      float64\n",
       "total_amount                    float64\n",
       "dtype: object"
      ]
     },
     "execution_count": 12,
     "metadata": {},
     "output_type": "execute_result"
    }
   ],
   "source": [
    "# To identify the datatype of each feature\n",
    "yellow_22.dtypes"
   ]
  },
  {
   "cell_type": "markdown",
   "id": "731ca461-2c2e-4f66-8349-6615d946d86f",
   "metadata": {},
   "source": [
    "### Categorical Dataset"
   ]
  },
  {
   "cell_type": "markdown",
   "id": "5f293169-58d1-4524-9fe1-e20c1934e299",
   "metadata": {},
   "source": [
    "Object data type utilizes big memory space and in this dataset, the categorical features below will be then converted to `category` type:\n",
    "- PULocationID: TLC Taxi Zone in which the taximeter was engaged\n",
    "- DOLocationID : TLC Taxi Zone in which the taximeter was disengaged"
   ]
  },
  {
   "cell_type": "code",
   "execution_count": 13,
   "id": "ec13cc73-c65e-4511-8f07-714ba4f15255",
   "metadata": {},
   "outputs": [],
   "source": [
    "for col in ['PULocationID', 'DOLocationID']:\n",
    "    yellow_22[col] = yellow_22[col].astype('category')"
   ]
  },
  {
   "cell_type": "markdown",
   "id": "0b891e59-b223-4cdf-95cf-d8ac409d9eeb",
   "metadata": {},
   "source": [
    "### Numerical Dataset"
   ]
  },
  {
   "cell_type": "markdown",
   "id": "8d13e3ef-89ee-47d9-9692-dcf73792190d",
   "metadata": {},
   "source": [
    "The float values here is not as big as requiring 64 bits to store them. 64 bits float can store decimal numbers ranging from 2.2E-308 to 1.7E+308 which is definitely way too large for our dataset. Hence, the following features will have ites datatype reduced to lower bit where it will require lesser memory space:\n",
    "- trip_distance: The elapsed trip distance in miles reported by the taximeter.\n",
    "- fare_amount: The time-and-distance fare calculated by the meter\n",
    "- extra: Miscellaneous extras and surcharges which are \\\\$0.50 and \\\\$1 rush hour and overnight charges\n",
    "- tip_amount: This field is automatically populated for credit card tips. \n",
    "- total_amount: The total amount charged to passengers. Does not include cash tips.\n"
   ]
  },
  {
   "cell_type": "code",
   "execution_count": 14,
   "id": "0b5fe49b-215e-4852-8d93-cdb5b8d0db25",
   "metadata": {},
   "outputs": [],
   "source": [
    "# To identify the min and max value of the feature and to change the datatype according to the capacity of datatype\n",
    "for col in ['trip_distance', 'fare_amount', 'extra', 'tip_amount', 'total_amount']:\n",
    "    c_min = yellow_22[col].min()\n",
    "    c_max = yellow_22[col].max()\n",
    "    if c_min > np.finfo(np.float16).min and c_max < np.finfo(np.float16).max:\n",
    "        yellow_22[col] = yellow_22[col].astype(np.float16)\n",
    "    elif c_min > np.finfo(np.float32).min and c_max < np.finfo(np.float32).max:\n",
    "        yellow_22[col] = yellow_22[col].astype(np.float32)\n",
    "    else:\n",
    "        yellow_22[col] = yellow_22[col].astype(np.float64)\n",
    "\n",
    "# To show only 2 decimal places of the float values\n",
    "pd.options.display.float_format = '{:,.2f}'.format"
   ]
  },
  {
   "cell_type": "markdown",
   "id": "21bd8f1e-3406-49e4-9001-8125d346bace",
   "metadata": {},
   "source": [
    "### Datetime datatype"
   ]
  },
  {
   "cell_type": "markdown",
   "id": "5f49ca9f-9ee6-4146-be17-ae222ad64f05",
   "metadata": {},
   "source": [
    "Both tpep_pickup_datetime & tpep_dropoff_datetime are not correctly categorized. To convert both features to datetime datatype"
   ]
  },
  {
   "cell_type": "code",
   "execution_count": 15,
   "id": "7449c3b9-e3c9-48de-8ab8-550cb064f2dc",
   "metadata": {},
   "outputs": [],
   "source": [
    "for col in ['tpep_pickup_datetime', 'tpep_dropoff_datetime']:\n",
    "    yellow_22[col] = pd.to_datetime(yellow_22[col]) "
   ]
  },
  {
   "cell_type": "markdown",
   "id": "89ced278-81d2-489b-b59b-a839799dc4c8",
   "metadata": {},
   "source": [
    "### Outcome"
   ]
  },
  {
   "cell_type": "code",
   "execution_count": 16,
   "id": "51d04216-cc50-4cf4-8012-3d136e389a95",
   "metadata": {},
   "outputs": [
    {
     "data": {
      "text/plain": [
       "tpep_pickup_datetime     datetime64[ns]\n",
       "tpep_dropoff_datetime    datetime64[ns]\n",
       "trip_distance                   float32\n",
       "PULocationID                   category\n",
       "DOLocationID                   category\n",
       "fare_amount                     float32\n",
       "extra                           float16\n",
       "tip_amount                      float16\n",
       "total_amount                    float32\n",
       "dtype: object"
      ]
     },
     "execution_count": 16,
     "metadata": {},
     "output_type": "execute_result"
    }
   ],
   "source": [
    "# To identify the datatype of each feature after amendment\n",
    "yellow_22.dtypes"
   ]
  },
  {
   "cell_type": "code",
   "execution_count": 17,
   "id": "309731af-f00a-4065-8e74-baf73d187410",
   "metadata": {},
   "outputs": [
    {
     "name": "stdout",
     "output_type": "stream",
     "text": [
      "Original Data Size: 1795.21 MB\n",
      "Optimized Data Size: 897.63 MB\n",
      "Size Reduction: 50.00%\n"
     ]
    }
   ],
   "source": [
    "# To counter check on the memory usage of the dataset\n",
    "new_size = yellow_22.memory_usage().sum()/(1024*1024)\n",
    "\n",
    "print('Original Data Size: {:.2f} MB'.format(ori_size))\n",
    "print('Optimized Data Size: {:.2f} MB'.format(new_size))\n",
    "print('Size Reduction: {:.2f}%'.format(100*(ori_size-new_size)/(ori_size)))"
   ]
  },
  {
   "cell_type": "code",
   "execution_count": 18,
   "id": "811741c8-dcb5-4796-907f-17304bd9a31f",
   "metadata": {},
   "outputs": [
    {
     "name": "stdout",
     "output_type": "stream",
     "text": [
      "(26144654, 9)\n"
     ]
    },
    {
     "data": {
      "text/html": [
       "<div>\n",
       "<style scoped>\n",
       "    .dataframe tbody tr th:only-of-type {\n",
       "        vertical-align: middle;\n",
       "    }\n",
       "\n",
       "    .dataframe tbody tr th {\n",
       "        vertical-align: top;\n",
       "    }\n",
       "\n",
       "    .dataframe thead th {\n",
       "        text-align: right;\n",
       "    }\n",
       "</style>\n",
       "<table border=\"1\" class=\"dataframe\">\n",
       "  <thead>\n",
       "    <tr style=\"text-align: right;\">\n",
       "      <th></th>\n",
       "      <th>tpep_pickup_datetime</th>\n",
       "      <th>tpep_dropoff_datetime</th>\n",
       "      <th>trip_distance</th>\n",
       "      <th>PULocationID</th>\n",
       "      <th>DOLocationID</th>\n",
       "      <th>fare_amount</th>\n",
       "      <th>extra</th>\n",
       "      <th>tip_amount</th>\n",
       "      <th>total_amount</th>\n",
       "    </tr>\n",
       "  </thead>\n",
       "  <tbody>\n",
       "    <tr>\n",
       "      <th>0</th>\n",
       "      <td>2001-01-01 00:03:14</td>\n",
       "      <td>2001-01-01 01:12:47</td>\n",
       "      <td>20.77</td>\n",
       "      <td>132</td>\n",
       "      <td>230</td>\n",
       "      <td>52.00</td>\n",
       "      <td>0.00</td>\n",
       "      <td>0.00</td>\n",
       "      <td>61.85</td>\n",
       "    </tr>\n",
       "    <tr>\n",
       "      <th>1</th>\n",
       "      <td>2001-01-01 00:27:45</td>\n",
       "      <td>2001-01-01 00:34:17</td>\n",
       "      <td>0.88</td>\n",
       "      <td>48</td>\n",
       "      <td>143</td>\n",
       "      <td>6.00</td>\n",
       "      <td>1.00</td>\n",
       "      <td>0.00</td>\n",
       "      <td>10.30</td>\n",
       "    </tr>\n",
       "    <tr>\n",
       "      <th>2</th>\n",
       "      <td>2001-01-01 01:02:18</td>\n",
       "      <td>2001-01-01 17:20:19</td>\n",
       "      <td>3.10</td>\n",
       "      <td>237</td>\n",
       "      <td>234</td>\n",
       "      <td>14.00</td>\n",
       "      <td>1.00</td>\n",
       "      <td>0.00</td>\n",
       "      <td>18.30</td>\n",
       "    </tr>\n",
       "    <tr>\n",
       "      <th>3</th>\n",
       "      <td>2001-01-01 01:23:51</td>\n",
       "      <td>2001-01-01 01:50:08</td>\n",
       "      <td>4.68</td>\n",
       "      <td>230</td>\n",
       "      <td>231</td>\n",
       "      <td>20.50</td>\n",
       "      <td>1.00</td>\n",
       "      <td>0.00</td>\n",
       "      <td>24.80</td>\n",
       "    </tr>\n",
       "    <tr>\n",
       "      <th>4</th>\n",
       "      <td>2001-01-01 01:52:48</td>\n",
       "      <td>2001-01-01 17:37:26</td>\n",
       "      <td>6.95</td>\n",
       "      <td>231</td>\n",
       "      <td>264</td>\n",
       "      <td>22.00</td>\n",
       "      <td>1.00</td>\n",
       "      <td>3.50</td>\n",
       "      <td>29.80</td>\n",
       "    </tr>\n",
       "  </tbody>\n",
       "</table>\n",
       "</div>"
      ],
      "text/plain": [
       "  tpep_pickup_datetime tpep_dropoff_datetime  trip_distance PULocationID  \\\n",
       "0  2001-01-01 00:03:14   2001-01-01 01:12:47          20.77          132   \n",
       "1  2001-01-01 00:27:45   2001-01-01 00:34:17           0.88           48   \n",
       "2  2001-01-01 01:02:18   2001-01-01 17:20:19           3.10          237   \n",
       "3  2001-01-01 01:23:51   2001-01-01 01:50:08           4.68          230   \n",
       "4  2001-01-01 01:52:48   2001-01-01 17:37:26           6.95          231   \n",
       "\n",
       "  DOLocationID  fare_amount  extra  tip_amount  total_amount  \n",
       "0          230        52.00   0.00        0.00         61.85  \n",
       "1          143         6.00   1.00        0.00         10.30  \n",
       "2          234        14.00   1.00        0.00         18.30  \n",
       "3          231        20.50   1.00        0.00         24.80  \n",
       "4          264        22.00   1.00        3.50         29.80  "
      ]
     },
     "execution_count": 18,
     "metadata": {},
     "output_type": "execute_result"
    }
   ],
   "source": [
    "print(yellow_22.shape)\n",
    "yellow_22.head()"
   ]
  },
  {
   "cell_type": "markdown",
   "id": "56da480f-79b2-4a0e-af11-54d9bd3b32cb",
   "metadata": {},
   "source": [
    "# Data Cleaning"
   ]
  },
  {
   "cell_type": "markdown",
   "id": "7856f52f-0743-4152-91ee-0735fb6c4d49",
   "metadata": {},
   "source": [
    "## Only capture data from year 2022\n",
    "Our project is only targetting for the year 2022"
   ]
  },
  {
   "cell_type": "code",
   "execution_count": 19,
   "id": "8d189b70-8672-4244-bea0-722094461fb9",
   "metadata": {},
   "outputs": [
    {
     "data": {
      "text/plain": [
       "(26144111, 9)"
      ]
     },
     "execution_count": 19,
     "metadata": {},
     "output_type": "execute_result"
    }
   ],
   "source": [
    "yellow_22 = yellow_22[yellow_22['tpep_pickup_datetime'].dt.year == 2022]\n",
    "yellow_22 = yellow_22[yellow_22['tpep_dropoff_datetime'].dt.year == 2022]\n",
    "yellow_22.shape"
   ]
  },
  {
   "cell_type": "markdown",
   "id": "3f97744a-1541-4b23-b0e8-402be857fbf1",
   "metadata": {},
   "source": [
    "## To remove rows where fare_amount is 0\n",
    "This could be due to errors in recording the information. As a result, these rows are removed"
   ]
  },
  {
   "cell_type": "code",
   "execution_count": 20,
   "id": "e209e235-5406-4a92-a3fa-2edd381f36f4",
   "metadata": {},
   "outputs": [],
   "source": [
    "yellow_22 = yellow_22[yellow_22['fare_amount'] != 0]"
   ]
  },
  {
   "cell_type": "markdown",
   "id": "de2f1c17-929d-4c39-8bb4-b2ca869ef73c",
   "metadata": {},
   "source": [
    "## To remove rows where trip_distant is 0\n",
    "This could be due to system error and to be removed."
   ]
  },
  {
   "cell_type": "code",
   "execution_count": 21,
   "id": "dbde0a79-950c-4a64-aa4b-2b7ad12afa51",
   "metadata": {},
   "outputs": [],
   "source": [
    "yellow_22 = yellow_22[yellow_22['trip_distance'] != 0]"
   ]
  },
  {
   "cell_type": "markdown",
   "id": "e16ab5c0-0d94-4127-ae3f-bcb02ff800d5",
   "metadata": {},
   "source": [
    "## To remove unknown Zones\n",
    "Zones that are not indicated in the map information will be removed which are ZoneID 264 and 265.\n",
    "Rows where the the `PULocationID` or `DOLocationID` consists of the mentioned zones, it will be removed."
   ]
  },
  {
   "cell_type": "code",
   "execution_count": 22,
   "id": "4d702985-f275-4156-9ee5-b05621e04bb8",
   "metadata": {},
   "outputs": [],
   "source": [
    "for i in [264,265]:\n",
    "    yellow_22 = yellow_22[~((yellow_22['PULocationID'] == i) | (yellow_22['DOLocationID'] ==i))]"
   ]
  },
  {
   "cell_type": "markdown",
   "id": "51b5c523-927c-48a3-adae-c3ffb57702d6",
   "metadata": {},
   "source": [
    "## To remove rows where pickup_datetime is the same with dropoff_datetime\n",
    "This could be due to system errors. Hence these rows are removed.\n"
   ]
  },
  {
   "cell_type": "code",
   "execution_count": 23,
   "id": "b46a5619-fbfe-4103-ba91-20e5889b4593",
   "metadata": {},
   "outputs": [],
   "source": [
    "yellow_22 = yellow_22[~(yellow_22['tpep_pickup_datetime'] == yellow_22['tpep_dropoff_datetime'])]\n"
   ]
  },
  {
   "cell_type": "markdown",
   "id": "bfaee818-09fe-4fbd-b39e-2aa086988060",
   "metadata": {},
   "source": [
    "## To remove rows with unrealistic duration and trip distant\n",
    "To identify these unrealistic datasets which is likely to caused by errors in recording the data, the duration of the ride is deduced to identify the speed of the taxi in sending the passengers. This is to prevent the dataset affecting the demand of the zones at time"
   ]
  },
  {
   "cell_type": "markdown",
   "id": "ed09d9f7-969f-4de1-9cac-d20f8db2e432",
   "metadata": {},
   "source": [
    "### Duration of Ride"
   ]
  },
  {
   "cell_type": "markdown",
   "id": "bc671c52-2740-437f-8228-ec384ffbbe96",
   "metadata": {},
   "source": [
    "To obtain the duration in minute of the taxi ride by deducting the pickup time and dropoff time"
   ]
  },
  {
   "cell_type": "code",
   "execution_count": 24,
   "id": "32793184-e267-4ee5-aa78-a307a07af6b3",
   "metadata": {},
   "outputs": [],
   "source": [
    "yellow_22['duration'] = (yellow_22['tpep_dropoff_datetime'] - yellow_22['tpep_pickup_datetime']).dt.total_seconds()/60"
   ]
  },
  {
   "cell_type": "markdown",
   "id": "1bd8ef24-9f93-4453-af48-413493a2b4c4",
   "metadata": {},
   "source": [
    "### Speed of Traveling"
   ]
  },
  {
   "cell_type": "markdown",
   "id": "2a1617eb-c308-4dd9-8971-dc6c5bedca5c",
   "metadata": {},
   "source": [
    "Dividing the distant of the destination with duration. "
   ]
  },
  {
   "cell_type": "code",
   "execution_count": 25,
   "id": "32d9d40f-7c13-42e7-98ef-33e41462383b",
   "metadata": {},
   "outputs": [],
   "source": [
    "yellow_22['speed_hr'] = yellow_22['trip_distance']/(yellow_22['duration']/60)"
   ]
  },
  {
   "cell_type": "markdown",
   "id": "fda7d3d7-b261-4e9f-9448-25c96b94b36c",
   "metadata": {},
   "source": [
    "The speed limit in NYC is 55 miles per hour, assuming drivers did not follow the speed limit, any speed that is above 80 miles/hr will be removed."
   ]
  },
  {
   "cell_type": "code",
   "execution_count": 26,
   "id": "c005163b-6cb0-432d-8a90-5495d5b6ebb6",
   "metadata": {},
   "outputs": [],
   "source": [
    "yellow_22 = yellow_22[yellow_22['speed_hr'] <= 80]"
   ]
  },
  {
   "cell_type": "code",
   "execution_count": 27,
   "id": "81001053-4ace-4794-ba86-a80f83844e3f",
   "metadata": {},
   "outputs": [
    {
     "data": {
      "text/html": [
       "<div>\n",
       "<style scoped>\n",
       "    .dataframe tbody tr th:only-of-type {\n",
       "        vertical-align: middle;\n",
       "    }\n",
       "\n",
       "    .dataframe tbody tr th {\n",
       "        vertical-align: top;\n",
       "    }\n",
       "\n",
       "    .dataframe thead th {\n",
       "        text-align: right;\n",
       "    }\n",
       "</style>\n",
       "<table border=\"1\" class=\"dataframe\">\n",
       "  <thead>\n",
       "    <tr style=\"text-align: right;\">\n",
       "      <th></th>\n",
       "      <th>tpep_pickup_datetime</th>\n",
       "      <th>tpep_dropoff_datetime</th>\n",
       "      <th>trip_distance</th>\n",
       "      <th>PULocationID</th>\n",
       "      <th>DOLocationID</th>\n",
       "      <th>fare_amount</th>\n",
       "      <th>extra</th>\n",
       "      <th>tip_amount</th>\n",
       "      <th>total_amount</th>\n",
       "      <th>duration</th>\n",
       "      <th>speed_hr</th>\n",
       "    </tr>\n",
       "  </thead>\n",
       "  <tbody>\n",
       "    <tr>\n",
       "      <th>542</th>\n",
       "      <td>2022-01-01 00:00:08</td>\n",
       "      <td>2022-01-01 00:14:14</td>\n",
       "      <td>7.94</td>\n",
       "      <td>138</td>\n",
       "      <td>255</td>\n",
       "      <td>23.00</td>\n",
       "      <td>0.50</td>\n",
       "      <td>4.86</td>\n",
       "      <td>30.41</td>\n",
       "      <td>14.10</td>\n",
       "      <td>33.79</td>\n",
       "    </tr>\n",
       "    <tr>\n",
       "      <th>543</th>\n",
       "      <td>2022-01-01 00:00:11</td>\n",
       "      <td>2022-01-01 00:14:29</td>\n",
       "      <td>5.55</td>\n",
       "      <td>132</td>\n",
       "      <td>215</td>\n",
       "      <td>17.50</td>\n",
       "      <td>0.50</td>\n",
       "      <td>0.00</td>\n",
       "      <td>20.05</td>\n",
       "      <td>14.30</td>\n",
       "      <td>23.29</td>\n",
       "    </tr>\n",
       "    <tr>\n",
       "      <th>544</th>\n",
       "      <td>2022-01-01 00:00:17</td>\n",
       "      <td>2022-01-01 00:31:04</td>\n",
       "      <td>3.86</td>\n",
       "      <td>170</td>\n",
       "      <td>68</td>\n",
       "      <td>20.00</td>\n",
       "      <td>0.50</td>\n",
       "      <td>4.76</td>\n",
       "      <td>28.56</td>\n",
       "      <td>30.78</td>\n",
       "      <td>7.52</td>\n",
       "    </tr>\n",
       "    <tr>\n",
       "      <th>545</th>\n",
       "      <td>2022-01-01 00:00:18</td>\n",
       "      <td>2022-01-01 00:13:27</td>\n",
       "      <td>3.37</td>\n",
       "      <td>79</td>\n",
       "      <td>209</td>\n",
       "      <td>13.00</td>\n",
       "      <td>0.50</td>\n",
       "      <td>3.36</td>\n",
       "      <td>20.16</td>\n",
       "      <td>13.15</td>\n",
       "      <td>15.38</td>\n",
       "    </tr>\n",
       "    <tr>\n",
       "      <th>546</th>\n",
       "      <td>2022-01-01 00:00:20</td>\n",
       "      <td>2022-01-01 00:20:51</td>\n",
       "      <td>4.89</td>\n",
       "      <td>68</td>\n",
       "      <td>256</td>\n",
       "      <td>18.00</td>\n",
       "      <td>0.50</td>\n",
       "      <td>6.54</td>\n",
       "      <td>28.34</td>\n",
       "      <td>20.52</td>\n",
       "      <td>14.30</td>\n",
       "    </tr>\n",
       "    <tr>\n",
       "      <th>...</th>\n",
       "      <td>...</td>\n",
       "      <td>...</td>\n",
       "      <td>...</td>\n",
       "      <td>...</td>\n",
       "      <td>...</td>\n",
       "      <td>...</td>\n",
       "      <td>...</td>\n",
       "      <td>...</td>\n",
       "      <td>...</td>\n",
       "      <td>...</td>\n",
       "      <td>...</td>\n",
       "    </tr>\n",
       "    <tr>\n",
       "      <th>26144648</th>\n",
       "      <td>2022-09-01 00:03:16</td>\n",
       "      <td>2022-09-01 00:09:38</td>\n",
       "      <td>1.72</td>\n",
       "      <td>161</td>\n",
       "      <td>234</td>\n",
       "      <td>7.50</td>\n",
       "      <td>0.50</td>\n",
       "      <td>1.13</td>\n",
       "      <td>12.43</td>\n",
       "      <td>6.37</td>\n",
       "      <td>16.21</td>\n",
       "    </tr>\n",
       "    <tr>\n",
       "      <th>26144649</th>\n",
       "      <td>2022-09-01 00:03:18</td>\n",
       "      <td>2022-09-01 00:20:03</td>\n",
       "      <td>4.47</td>\n",
       "      <td>164</td>\n",
       "      <td>7</td>\n",
       "      <td>15.00</td>\n",
       "      <td>0.50</td>\n",
       "      <td>3.00</td>\n",
       "      <td>21.80</td>\n",
       "      <td>16.75</td>\n",
       "      <td>16.01</td>\n",
       "    </tr>\n",
       "    <tr>\n",
       "      <th>26144650</th>\n",
       "      <td>2022-09-01 00:04:02</td>\n",
       "      <td>2022-09-01 00:11:30</td>\n",
       "      <td>1.84</td>\n",
       "      <td>48</td>\n",
       "      <td>43</td>\n",
       "      <td>8.00</td>\n",
       "      <td>0.50</td>\n",
       "      <td>2.36</td>\n",
       "      <td>14.16</td>\n",
       "      <td>7.47</td>\n",
       "      <td>14.79</td>\n",
       "    </tr>\n",
       "    <tr>\n",
       "      <th>26144651</th>\n",
       "      <td>2022-09-01 00:04:22</td>\n",
       "      <td>2022-09-01 00:28:36</td>\n",
       "      <td>5.31</td>\n",
       "      <td>100</td>\n",
       "      <td>217</td>\n",
       "      <td>20.50</td>\n",
       "      <td>0.50</td>\n",
       "      <td>4.86</td>\n",
       "      <td>29.16</td>\n",
       "      <td>24.23</td>\n",
       "      <td>13.15</td>\n",
       "    </tr>\n",
       "    <tr>\n",
       "      <th>26144652</th>\n",
       "      <td>2022-09-01 00:04:50</td>\n",
       "      <td>2022-09-01 00:39:19</td>\n",
       "      <td>14.84</td>\n",
       "      <td>138</td>\n",
       "      <td>71</td>\n",
       "      <td>44.00</td>\n",
       "      <td>0.50</td>\n",
       "      <td>9.31</td>\n",
       "      <td>55.86</td>\n",
       "      <td>34.48</td>\n",
       "      <td>25.82</td>\n",
       "    </tr>\n",
       "  </tbody>\n",
       "</table>\n",
       "<p>25348245 rows × 11 columns</p>\n",
       "</div>"
      ],
      "text/plain": [
       "         tpep_pickup_datetime tpep_dropoff_datetime  trip_distance  \\\n",
       "542       2022-01-01 00:00:08   2022-01-01 00:14:14           7.94   \n",
       "543       2022-01-01 00:00:11   2022-01-01 00:14:29           5.55   \n",
       "544       2022-01-01 00:00:17   2022-01-01 00:31:04           3.86   \n",
       "545       2022-01-01 00:00:18   2022-01-01 00:13:27           3.37   \n",
       "546       2022-01-01 00:00:20   2022-01-01 00:20:51           4.89   \n",
       "...                       ...                   ...            ...   \n",
       "26144648  2022-09-01 00:03:16   2022-09-01 00:09:38           1.72   \n",
       "26144649  2022-09-01 00:03:18   2022-09-01 00:20:03           4.47   \n",
       "26144650  2022-09-01 00:04:02   2022-09-01 00:11:30           1.84   \n",
       "26144651  2022-09-01 00:04:22   2022-09-01 00:28:36           5.31   \n",
       "26144652  2022-09-01 00:04:50   2022-09-01 00:39:19          14.84   \n",
       "\n",
       "         PULocationID DOLocationID  fare_amount  extra  tip_amount  \\\n",
       "542               138          255        23.00   0.50        4.86   \n",
       "543               132          215        17.50   0.50        0.00   \n",
       "544               170           68        20.00   0.50        4.76   \n",
       "545                79          209        13.00   0.50        3.36   \n",
       "546                68          256        18.00   0.50        6.54   \n",
       "...               ...          ...          ...    ...         ...   \n",
       "26144648          161          234         7.50   0.50        1.13   \n",
       "26144649          164            7        15.00   0.50        3.00   \n",
       "26144650           48           43         8.00   0.50        2.36   \n",
       "26144651          100          217        20.50   0.50        4.86   \n",
       "26144652          138           71        44.00   0.50        9.31   \n",
       "\n",
       "          total_amount  duration  speed_hr  \n",
       "542              30.41     14.10     33.79  \n",
       "543              20.05     14.30     23.29  \n",
       "544              28.56     30.78      7.52  \n",
       "545              20.16     13.15     15.38  \n",
       "546              28.34     20.52     14.30  \n",
       "...                ...       ...       ...  \n",
       "26144648         12.43      6.37     16.21  \n",
       "26144649         21.80     16.75     16.01  \n",
       "26144650         14.16      7.47     14.79  \n",
       "26144651         29.16     24.23     13.15  \n",
       "26144652         55.86     34.48     25.82  \n",
       "\n",
       "[25348245 rows x 11 columns]"
      ]
     },
     "execution_count": 27,
     "metadata": {},
     "output_type": "execute_result"
    }
   ],
   "source": [
    "yellow_22"
   ]
  },
  {
   "cell_type": "markdown",
   "id": "523a5516-bdda-4cd0-8bab-2958dcace7ab",
   "metadata": {},
   "source": [
    "## Final Outcome\n",
    "features that were used to clean the datasets are removed"
   ]
  },
  {
   "cell_type": "code",
   "execution_count": 28,
   "id": "fa7378b4-f194-4647-a868-511237c83b39",
   "metadata": {},
   "outputs": [
    {
     "name": "stdout",
     "output_type": "stream",
     "text": [
      "(25348245, 4)\n"
     ]
    },
    {
     "data": {
      "text/html": [
       "<div>\n",
       "<style scoped>\n",
       "    .dataframe tbody tr th:only-of-type {\n",
       "        vertical-align: middle;\n",
       "    }\n",
       "\n",
       "    .dataframe tbody tr th {\n",
       "        vertical-align: top;\n",
       "    }\n",
       "\n",
       "    .dataframe thead th {\n",
       "        text-align: right;\n",
       "    }\n",
       "</style>\n",
       "<table border=\"1\" class=\"dataframe\">\n",
       "  <thead>\n",
       "    <tr style=\"text-align: right;\">\n",
       "      <th></th>\n",
       "      <th>tpep_pickup_datetime</th>\n",
       "      <th>tpep_dropoff_datetime</th>\n",
       "      <th>PULocationID</th>\n",
       "      <th>DOLocationID</th>\n",
       "    </tr>\n",
       "  </thead>\n",
       "  <tbody>\n",
       "    <tr>\n",
       "      <th>0</th>\n",
       "      <td>2022-01-01 00:00:08</td>\n",
       "      <td>2022-01-01 00:14:14</td>\n",
       "      <td>138</td>\n",
       "      <td>255</td>\n",
       "    </tr>\n",
       "    <tr>\n",
       "      <th>1</th>\n",
       "      <td>2022-01-01 00:00:11</td>\n",
       "      <td>2022-01-01 00:14:29</td>\n",
       "      <td>132</td>\n",
       "      <td>215</td>\n",
       "    </tr>\n",
       "    <tr>\n",
       "      <th>2</th>\n",
       "      <td>2022-01-01 00:00:17</td>\n",
       "      <td>2022-01-01 00:31:04</td>\n",
       "      <td>170</td>\n",
       "      <td>68</td>\n",
       "    </tr>\n",
       "    <tr>\n",
       "      <th>3</th>\n",
       "      <td>2022-01-01 00:00:18</td>\n",
       "      <td>2022-01-01 00:13:27</td>\n",
       "      <td>79</td>\n",
       "      <td>209</td>\n",
       "    </tr>\n",
       "    <tr>\n",
       "      <th>4</th>\n",
       "      <td>2022-01-01 00:00:20</td>\n",
       "      <td>2022-01-01 00:20:51</td>\n",
       "      <td>68</td>\n",
       "      <td>256</td>\n",
       "    </tr>\n",
       "  </tbody>\n",
       "</table>\n",
       "</div>"
      ],
      "text/plain": [
       "  tpep_pickup_datetime tpep_dropoff_datetime PULocationID DOLocationID\n",
       "0  2022-01-01 00:00:08   2022-01-01 00:14:14          138          255\n",
       "1  2022-01-01 00:00:11   2022-01-01 00:14:29          132          215\n",
       "2  2022-01-01 00:00:17   2022-01-01 00:31:04          170           68\n",
       "3  2022-01-01 00:00:18   2022-01-01 00:13:27           79          209\n",
       "4  2022-01-01 00:00:20   2022-01-01 00:20:51           68          256"
      ]
     },
     "execution_count": 28,
     "metadata": {},
     "output_type": "execute_result"
    }
   ],
   "source": [
    "yellow_22.reset_index(drop = True, inplace = True)\n",
    "yellow_22.drop(columns = ['duration', 'speed_hr', \n",
    "                          'fare_amount', 'extra', \n",
    "                          'tip_amount', 'total_amount',\n",
    "                         'trip_distance'], inplace = True)\n",
    "print(yellow_22.shape)\n",
    "yellow_22.head()"
   ]
  },
  {
   "cell_type": "code",
   "execution_count": 29,
   "id": "f20a16c2-4a3a-45a2-8ba7-a8e5005e47da",
   "metadata": {},
   "outputs": [
    {
     "name": "stdout",
     "output_type": "stream",
     "text": [
      "Original Data Size: 1795.21 MB\n",
      "Optimized Data Size: 897.63 MB\n",
      "Cleand & Optimized Data Size: 483.50 MB\n",
      "Size Reduction to Optimized Dataset: 50.00%\n",
      "Size Reduction to Optimized & Cleaned Dataset: 73.07%\n"
     ]
    }
   ],
   "source": [
    "# To counter check on the memory usage of the cleand dataset\n",
    "new_clean_size = yellow_22.memory_usage().sum()/(1024*1024)\n",
    "\n",
    "print('Original Data Size: {:.2f} MB'.format(ori_size))\n",
    "print('Optimized Data Size: {:.2f} MB'.format(new_size))\n",
    "print('Cleand & Optimized Data Size: {:.2f} MB'.format(new_clean_size))\n",
    "print('Size Reduction to Optimized Dataset: {:.2f}%'.format(100*(ori_size-new_size)/(ori_size)))\n",
    "print('Size Reduction to Optimized & Cleaned Dataset: {:.2f}%'.format(100*(ori_size-new_clean_size)/(ori_size)))"
   ]
  },
  {
   "cell_type": "markdown",
   "id": "8044cd4a-6b5a-48b6-ba97-d37ac586701f",
   "metadata": {},
   "source": [
    "# File Export"
   ]
  },
  {
   "cell_type": "code",
   "execution_count": 30,
   "id": "9738ccf4-df5e-46ff-b15b-5f7bfb4770c6",
   "metadata": {},
   "outputs": [],
   "source": [
    "yellow_22.to_pickle('./datasets/cleaned_yellow_2022.pkl')"
   ]
  },
  {
   "cell_type": "code",
   "execution_count": null,
   "id": "d8cef7f6-6eeb-4eb4-ad70-bd079363cc1e",
   "metadata": {},
   "outputs": [],
   "source": []
  }
 ],
 "metadata": {
  "kernelspec": {
   "display_name": "Python 3 (ipykernel)",
   "language": "python",
   "name": "python3"
  },
  "language_info": {
   "codemirror_mode": {
    "name": "ipython",
    "version": 3
   },
   "file_extension": ".py",
   "mimetype": "text/x-python",
   "name": "python",
   "nbconvert_exporter": "python",
   "pygments_lexer": "ipython3",
   "version": "3.8.13"
  }
 },
 "nbformat": 4,
 "nbformat_minor": 5
}
